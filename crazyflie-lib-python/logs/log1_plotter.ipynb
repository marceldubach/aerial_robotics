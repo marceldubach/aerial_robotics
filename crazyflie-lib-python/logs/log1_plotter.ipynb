{
 "cells": [
  {
   "cell_type": "code",
   "execution_count": null,
   "metadata": {},
   "outputs": [],
   "source": [
    "import matplotlib.pyplot as plt\n",
    "import pandas as pd"
   ]
  },
  {
   "cell_type": "markdown",
   "metadata": {},
   "source": [
    "## Variables:\n",
    "\n",
    "**Logfiles 1 and 2:** \n",
    "\n",
    "have the following measurements: thrust,est_x,est_y,est_z,zrange \n",
    "\n",
    "During the first experience, I held a paperblock below the drone, which made it think it was lower than it actually was... \n",
    "\n",
    "Logfile 2 does a square\n",
    "\n",
    "## Remarks:\n",
    "- there is an offset in the x,y, coordinates at the beginning --> i don't know where it comes from, but it makes position commands a bit dangerous...\n",
    "- the position command is \"go up(0.5)\", but the drone always goes up to ~1m"
   ]
  },
  {
   "cell_type": "code",
   "execution_count": null,
   "metadata": {},
   "outputs": [],
   "source": [
    "# import data in pandas dataframe (change the file name to your local file)\n",
    "data = pd.read_csv('log2.csv', header = None)"
   ]
  },
  {
   "cell_type": "code",
   "execution_count": null,
   "metadata": {},
   "outputs": [],
   "source": [
    "print(data)"
   ]
  },
  {
   "cell_type": "code",
   "execution_count": null,
   "metadata": {},
   "outputs": [],
   "source": [
    "# remove all-zeros rows\n",
    "data.columns = ['thrust','x','y','z','zrange','-']\n",
    "data = data[['thrust','x','y','z','zrange']]\n",
    "data = data[(data.T != 0).any()]"
   ]
  },
  {
   "cell_type": "code",
   "execution_count": null,
   "metadata": {},
   "outputs": [],
   "source": [
    "print(data)"
   ]
  },
  {
   "cell_type": "code",
   "execution_count": null,
   "metadata": {},
   "outputs": [],
   "source": [
    "# plot all timeseries\n",
    "for i in data.columns:\n",
    "    plt.figure()\n",
    "    plt.plot(data[i])\n",
    "    plt.title(i)"
   ]
  },
  {
   "cell_type": "code",
   "execution_count": null,
   "metadata": {},
   "outputs": [],
   "source": []
  }
 ],
 "metadata": {
  "kernelspec": {
   "display_name": "Python 3",
   "language": "python",
   "name": "python3"
  },
  "language_info": {
   "codemirror_mode": {
    "name": "ipython",
    "version": 3
   },
   "file_extension": ".py",
   "mimetype": "text/x-python",
   "name": "python",
   "nbconvert_exporter": "python",
   "pygments_lexer": "ipython3",
   "version": "3.7.6"
  }
 },
 "nbformat": 4,
 "nbformat_minor": 4
}
